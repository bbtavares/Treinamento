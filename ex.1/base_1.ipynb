{
 "cells": [
  {
   "cell_type": "code",
   "execution_count": 1,
   "metadata": {},
   "outputs": [],
   "source": [
    "import pandas as pd\n",
    "import numpy as np\n",
    "import csv\n",
    "import datetime as dt"
   ]
  },
  {
   "cell_type": "code",
   "execution_count": 2,
   "metadata": {},
   "outputs": [],
   "source": [
    "# Lendo arquivo csv\n",
    "\n",
    "database = pd.read_csv(r'C:\\Users\\Beatriz Brito\\Desktop\\CEPEDI\\ex.1\\datasets\\database_1.csv', \n",
    "    low_memory=False,\n",
    "    na_values=r'\\N')"
   ]
  },
  {
   "cell_type": "code",
   "execution_count": 3,
   "metadata": {},
   "outputs": [
    {
     "data": {
      "text/plain": [
       "video_name                 string\n",
       "channel_name               string\n",
       "views                       int64\n",
       "likes                     float64\n",
       "uploading_date     datetime64[ns]\n",
       "duration          timedelta64[ns]\n",
       "description                string\n",
       "dtype: object"
      ]
     },
     "execution_count": 3,
     "metadata": {},
     "output_type": "execute_result"
    }
   ],
   "source": [
    "# Tratando dados\n",
    "\n",
    "database.columns = database.columns.str.replace(' ', '_').str.lower()\n",
    "database['views'] = pd.to_numeric(database['views'])\n",
    "database['video_name'] = database['video_name'].astype(\"string\")\n",
    "database['channel_name'] = database['channel_name'].astype(\"string\")\n",
    "database['description'] = database['description'].astype(\"string\")\n",
    "database['uploading_date'] = pd.to_datetime(database['uploading_date'], format = '%d-%b-%y')\n",
    "database['duration'] = pd.to_datetime(database['duration'], format = '%H:%M:%S') - dt.datetime(1900, 1, 1, 0, 0, 0)\n",
    "choice = np.select(\n",
    "    condlist=[database['likes'].str.slice(-1) =='M', database['likes'].str.slice(-1) =='K'],\n",
    "    choicelist=[1000000, 1000],\n",
    "    default=np.nan\n",
    ")\n",
    "database['likes'] = database['likes'].str.slice(0,-1).astype('float64') * choice\n",
    "database.dtypes"
   ]
  },
  {
   "cell_type": "code",
   "execution_count": 5,
   "metadata": {},
   "outputs": [
    {
     "data": {
      "text/html": [
       "<div>\n",
       "<style scoped>\n",
       "    .dataframe tbody tr th:only-of-type {\n",
       "        vertical-align: middle;\n",
       "    }\n",
       "\n",
       "    .dataframe tbody tr th {\n",
       "        vertical-align: top;\n",
       "    }\n",
       "\n",
       "    .dataframe thead th {\n",
       "        text-align: right;\n",
       "    }\n",
       "</style>\n",
       "<table border=\"1\" class=\"dataframe\">\n",
       "  <thead>\n",
       "    <tr style=\"text-align: right;\">\n",
       "      <th></th>\n",
       "      <th>video_name</th>\n",
       "      <th>channel_name</th>\n",
       "      <th>views</th>\n",
       "      <th>likes</th>\n",
       "      <th>uploading_date</th>\n",
       "      <th>duration</th>\n",
       "      <th>description</th>\n",
       "    </tr>\n",
       "  </thead>\n",
       "  <tbody>\n",
       "    <tr>\n",
       "      <th>3</th>\n",
       "      <td>Justin Bieber - Sorry (PURPOSE : The Movement)</td>\n",
       "      <td>Justin Bieber</td>\n",
       "      <td>3587835774</td>\n",
       "      <td>15000000.0</td>\n",
       "      <td>2015-10-23</td>\n",
       "      <td>0 days 00:03:25</td>\n",
       "      <td>Song for Adults</td>\n",
       "    </tr>\n",
       "    <tr>\n",
       "      <th>7</th>\n",
       "      <td>PSY - GANGNAM STYLE</td>\n",
       "      <td>officialpsy</td>\n",
       "      <td>4554504719</td>\n",
       "      <td>25000000.0</td>\n",
       "      <td>2012-07-15</td>\n",
       "      <td>0 days 00:04:12</td>\n",
       "      <td>Song for Adults</td>\n",
       "    </tr>\n",
       "    <tr>\n",
       "      <th>5</th>\n",
       "      <td>Katy Perry - Roar</td>\n",
       "      <td>Katy Perry</td>\n",
       "      <td>3659392210</td>\n",
       "      <td>15000000.0</td>\n",
       "      <td>2013-09-06</td>\n",
       "      <td>0 days 00:04:29</td>\n",
       "      <td>Song for Adults</td>\n",
       "    </tr>\n",
       "  </tbody>\n",
       "</table>\n",
       "</div>"
      ],
      "text/plain": [
       "                                       video_name   channel_name       views  \\\n",
       "3  Justin Bieber - Sorry (PURPOSE : The Movement)  Justin Bieber  3587835774   \n",
       "7                             PSY - GANGNAM STYLE    officialpsy  4554504719   \n",
       "5                               Katy Perry - Roar     Katy Perry  3659392210   \n",
       "\n",
       "        likes uploading_date        duration      description  \n",
       "3  15000000.0     2015-10-23 0 days 00:03:25  Song for Adults  \n",
       "7  25000000.0     2012-07-15 0 days 00:04:12  Song for Adults  \n",
       "5  15000000.0     2013-09-06 0 days 00:04:29  Song for Adults  "
      ]
     },
     "execution_count": 5,
     "metadata": {},
     "output_type": "execute_result"
    }
   ],
   "source": [
    "database.sample(3)"
   ]
  },
  {
   "cell_type": "code",
   "execution_count": 6,
   "metadata": {},
   "outputs": [],
   "source": [
    "# Salva o arquivo modificado em processed\n",
    "\n",
    "database.to_pickle('processed/database_1.plk')\n",
    "del database"
   ]
  }
 ],
 "metadata": {
  "kernelspec": {
   "display_name": "Python 3.10.7 64-bit",
   "language": "python",
   "name": "python3"
  },
  "language_info": {
   "codemirror_mode": {
    "name": "ipython",
    "version": 3
   },
   "file_extension": ".py",
   "mimetype": "text/x-python",
   "name": "python",
   "nbconvert_exporter": "python",
   "pygments_lexer": "ipython3",
   "version": "3.10.7"
  },
  "orig_nbformat": 4,
  "vscode": {
   "interpreter": {
    "hash": "d7c77fd3856ea734c77f6e8de04e185634097421c9f124b9df813cb6fb949972"
   }
  }
 },
 "nbformat": 4,
 "nbformat_minor": 2
}
