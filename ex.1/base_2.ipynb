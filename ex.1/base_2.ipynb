{
 "cells": [
  {
   "cell_type": "code",
   "execution_count": 1,
   "metadata": {},
   "outputs": [],
   "source": [
    "import pandas as pd\n",
    "import numpy as np\n",
    "import csv\n",
    "import datetime as dt"
   ]
  },
  {
   "cell_type": "code",
   "execution_count": 2,
   "metadata": {},
   "outputs": [],
   "source": [
    "# Lendo arquivo csv\n",
    "\n",
    "database = pd.read_csv(r'C:\\Users\\Beatriz Brito\\Desktop\\CEPEDI\\ex.1\\datasets\\database_2.csv', \n",
    "    low_memory=False)"
   ]
  },
  {
   "cell_type": "code",
   "execution_count": 3,
   "metadata": {},
   "outputs": [],
   "source": [
    "database = database.drop(columns=[\n",
    "        'index',\n",
    "        'phone_number_2',\n",
    "        'facebook',\n",
    "        'twitter',\n",
    "        'instagram',\n",
    "        'pinterest',\n",
    "        'youtube',\n",
    "        'url',\n",
    "        'fax_1',\n",
    "        'fax_2',\n",
    "        'email_1',\n",
    "        'email_2',\n",
    "        'website'\n",
    "        ])"
   ]
  },
  {
   "cell_type": "code",
   "execution_count": 4,
   "metadata": {},
   "outputs": [],
   "source": [
    "# Separando informações de horário de funcionamento\n",
    "\n",
    "funcionamento = database[\"open_hours\"].str.split(\",\", n = 1, expand = True)\n",
    "database[\"weekday\"] = funcionamento[0]\n",
    "database[\"weekend\"] = funcionamento[1]\n",
    "database.drop(columns = [\"open_hours\"], inplace = True)\n"
   ]
  },
  {
   "cell_type": "code",
   "execution_count": 5,
   "metadata": {},
   "outputs": [],
   "source": [
    "# Tratando tipo de dados\n",
    "\n",
    "database['weekday'] = database['weekday'].astype(\"string\")\n",
    "database['weekend'] = database['weekend'].astype(\"string\")\n",
    "database['name'] = database['name'].astype(\"string\")\n",
    "database['street_address'] = database['street_address'].astype(\"string\")\n",
    "database['city'] = database['city'].astype(\"string\")\n",
    "database['state'] = database['state'].astype(\"string\")\n",
    "database['zip_code'] = pd.to_numeric(database['zip_code'])\n",
    "database['country'] = database['country'].astype(\"string\")\n",
    "database['latitude'] = pd.to_numeric(database['latitude'])\n",
    "database['longitude'] = pd.to_numeric(database['longitude'])\n",
    "database['phone_number'] = database['phone_number_1'].str.replace('-', '')\n",
    "database.drop(columns = [\"phone_number_1\"], inplace = True)\n",
    "database['phone_number'] = pd.to_numeric(database['phone_number'])"
   ]
  },
  {
   "cell_type": "code",
   "execution_count": 6,
   "metadata": {},
   "outputs": [
    {
     "name": "stdout",
     "output_type": "stream",
     "text": [
      "<class 'pandas.core.frame.DataFrame'>\n",
      "RangeIndex: 4654 entries, 0 to 4653\n",
      "Data columns (total 11 columns):\n",
      " #   Column          Non-Null Count  Dtype  \n",
      "---  ------          --------------  -----  \n",
      " 0   name            4654 non-null   string \n",
      " 1   street_address  4654 non-null   string \n",
      " 2   city            4654 non-null   string \n",
      " 3   state           4654 non-null   string \n",
      " 4   zip_code        4654 non-null   int64  \n",
      " 5   country         4654 non-null   string \n",
      " 6   latitude        4654 non-null   float64\n",
      " 7   longitude       4654 non-null   float64\n",
      " 8   weekday         4631 non-null   string \n",
      " 9   weekend         4631 non-null   string \n",
      " 10  phone_number    4654 non-null   int64  \n",
      "dtypes: float64(2), int64(2), string(7)\n",
      "memory usage: 400.1 KB\n"
     ]
    }
   ],
   "source": [
    "database.info()"
   ]
  },
  {
   "cell_type": "code",
   "execution_count": 7,
   "metadata": {},
   "outputs": [
    {
     "data": {
      "text/html": [
       "<div>\n",
       "<style scoped>\n",
       "    .dataframe tbody tr th:only-of-type {\n",
       "        vertical-align: middle;\n",
       "    }\n",
       "\n",
       "    .dataframe tbody tr th {\n",
       "        vertical-align: top;\n",
       "    }\n",
       "\n",
       "    .dataframe thead th {\n",
       "        text-align: right;\n",
       "    }\n",
       "</style>\n",
       "<table border=\"1\" class=\"dataframe\">\n",
       "  <thead>\n",
       "    <tr style=\"text-align: right;\">\n",
       "      <th></th>\n",
       "      <th>name</th>\n",
       "      <th>street_address</th>\n",
       "      <th>city</th>\n",
       "      <th>state</th>\n",
       "      <th>zip_code</th>\n",
       "      <th>country</th>\n",
       "      <th>latitude</th>\n",
       "      <th>longitude</th>\n",
       "      <th>weekday</th>\n",
       "      <th>weekend</th>\n",
       "      <th>phone_number</th>\n",
       "    </tr>\n",
       "  </thead>\n",
       "  <tbody>\n",
       "    <tr>\n",
       "      <th>332</th>\n",
       "      <td>Tomball Supercenter</td>\n",
       "      <td>25800 Kuykendahl Rd</td>\n",
       "      <td>Tomball</td>\n",
       "      <td>TX</td>\n",
       "      <td>77375</td>\n",
       "      <td>US</td>\n",
       "      <td>30.134346</td>\n",
       "      <td>-95.550647</td>\n",
       "      <td>monday - friday : 06:00-24:00</td>\n",
       "      <td>saturday : 06:00-24:00, sunday : 06:00-24:00</td>\n",
       "      <td>8327618499</td>\n",
       "    </tr>\n",
       "    <tr>\n",
       "      <th>3491</th>\n",
       "      <td>Levittown Neighborhood Market</td>\n",
       "      <td>3335 Hempstead Tpke</td>\n",
       "      <td>Levittown</td>\n",
       "      <td>NY</td>\n",
       "      <td>11756</td>\n",
       "      <td>US</td>\n",
       "      <td>40.726434</td>\n",
       "      <td>-73.512899</td>\n",
       "      <td>monday - friday : 06:00-24:00</td>\n",
       "      <td>saturday : 06:00-24:00, sunday : 06:00-24:00</td>\n",
       "      <td>5164900438</td>\n",
       "    </tr>\n",
       "    <tr>\n",
       "      <th>2737</th>\n",
       "      <td>Milwaukee Supercenter</td>\n",
       "      <td>10330 W Silver Spring Dr</td>\n",
       "      <td>Milwaukee</td>\n",
       "      <td>WI</td>\n",
       "      <td>53225</td>\n",
       "      <td>US</td>\n",
       "      <td>43.122232</td>\n",
       "      <td>-88.041482</td>\n",
       "      <td>monday - friday : 06:00-24:00</td>\n",
       "      <td>saturday : 06:00-24:00, sunday : 06:00-24:00</td>\n",
       "      <td>4143550892</td>\n",
       "    </tr>\n",
       "  </tbody>\n",
       "</table>\n",
       "</div>"
      ],
      "text/plain": [
       "                               name            street_address       city  \\\n",
       "332             Tomball Supercenter       25800 Kuykendahl Rd    Tomball   \n",
       "3491  Levittown Neighborhood Market       3335 Hempstead Tpke  Levittown   \n",
       "2737          Milwaukee Supercenter  10330 W Silver Spring Dr  Milwaukee   \n",
       "\n",
       "     state  zip_code country   latitude  longitude  \\\n",
       "332     TX     77375      US  30.134346 -95.550647   \n",
       "3491    NY     11756      US  40.726434 -73.512899   \n",
       "2737    WI     53225      US  43.122232 -88.041482   \n",
       "\n",
       "                            weekday  \\\n",
       "332   monday - friday : 06:00-24:00   \n",
       "3491  monday - friday : 06:00-24:00   \n",
       "2737  monday - friday : 06:00-24:00   \n",
       "\n",
       "                                            weekend  phone_number  \n",
       "332    saturday : 06:00-24:00, sunday : 06:00-24:00    8327618499  \n",
       "3491   saturday : 06:00-24:00, sunday : 06:00-24:00    5164900438  \n",
       "2737   saturday : 06:00-24:00, sunday : 06:00-24:00    4143550892  "
      ]
     },
     "execution_count": 7,
     "metadata": {},
     "output_type": "execute_result"
    }
   ],
   "source": [
    "database.sample(3)"
   ]
  },
  {
   "cell_type": "code",
   "execution_count": 8,
   "metadata": {},
   "outputs": [],
   "source": [
    "# Salva o arquivo modificado em processed\n",
    "\n",
    "database.to_pickle('processed/database_2.plk')\n",
    "del database"
   ]
  }
 ],
 "metadata": {
  "kernelspec": {
   "display_name": "Python 3.10.7 64-bit",
   "language": "python",
   "name": "python3"
  },
  "language_info": {
   "codemirror_mode": {
    "name": "ipython",
    "version": 3
   },
   "file_extension": ".py",
   "mimetype": "text/x-python",
   "name": "python",
   "nbconvert_exporter": "python",
   "pygments_lexer": "ipython3",
   "version": "3.10.7"
  },
  "orig_nbformat": 4,
  "vscode": {
   "interpreter": {
    "hash": "d7c77fd3856ea734c77f6e8de04e185634097421c9f124b9df813cb6fb949972"
   }
  }
 },
 "nbformat": 4,
 "nbformat_minor": 2
}
