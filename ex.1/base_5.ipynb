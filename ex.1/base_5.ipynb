{
 "cells": [
  {
   "cell_type": "code",
   "execution_count": 1,
   "metadata": {},
   "outputs": [],
   "source": [
    "import pandas as pd\n",
    "import numpy as np\n",
    "import csv\n",
    "import datetime as dt"
   ]
  },
  {
   "cell_type": "code",
   "execution_count": 2,
   "metadata": {},
   "outputs": [
    {
     "name": "stdout",
     "output_type": "stream",
     "text": [
      "<class 'pandas.core.frame.DataFrame'>\n",
      "RangeIndex: 212404 entries, 0 to 212403\n",
      "Data columns (total 10 columns):\n",
      " #   Column         Non-Null Count   Dtype  \n",
      "---  ------         --------------   -----  \n",
      " 0   Title          212403 non-null  object \n",
      " 1   description    143962 non-null  object \n",
      " 2   authors        180991 non-null  object \n",
      " 3   image          160329 non-null  object \n",
      " 4   previewLink    188568 non-null  object \n",
      " 5   publisher      136518 non-null  object \n",
      " 6   publishedDate  187099 non-null  object \n",
      " 7   infoLink       188568 non-null  object \n",
      " 8   categories     171205 non-null  object \n",
      " 9   ratingsCount   49752 non-null   float64\n",
      "dtypes: float64(1), object(9)\n",
      "memory usage: 16.2+ MB\n"
     ]
    }
   ],
   "source": [
    "# Lendo arquivo csv\n",
    "\n",
    "database = pd.read_csv(r'C:\\Users\\Beatriz Brito\\Desktop\\CEPEDI\\ex.1\\datasets\\books_data.csv', \n",
    "    low_memory=False,\n",
    "    na_values=r'\\N')\n",
    "database.info()"
   ]
  },
  {
   "cell_type": "code",
   "execution_count": 3,
   "metadata": {},
   "outputs": [
    {
     "data": {
      "text/plain": [
       "Index(['title', 'description', 'authors', 'image', 'previewlink', 'publisher',\n",
       "       'publisheddate', 'infolink', 'categories', 'ratingscount'],\n",
       "      dtype='object')"
      ]
     },
     "execution_count": 3,
     "metadata": {},
     "output_type": "execute_result"
    }
   ],
   "source": [
    "\n",
    "database.columns = database.columns.str.replace(' ', '_').str.lower()\n",
    "database.columns"
   ]
  },
  {
   "cell_type": "code",
   "execution_count": 4,
   "metadata": {},
   "outputs": [
    {
     "name": "stdout",
     "output_type": "stream",
     "text": [
      "<class 'pandas.core.frame.DataFrame'>\n",
      "RangeIndex: 212404 entries, 0 to 212403\n",
      "Data columns (total 8 columns):\n",
      " #   Column         Non-Null Count   Dtype  \n",
      "---  ------         --------------   -----  \n",
      " 0   title          212403 non-null  string \n",
      " 1   description    143962 non-null  string \n",
      " 2   authors        180991 non-null  string \n",
      " 3   publisher      136518 non-null  string \n",
      " 4   categories     171205 non-null  string \n",
      " 5   publishe_date  187099 non-null  string \n",
      " 6   info_link      188568 non-null  string \n",
      " 7   ratings_count  49752 non-null   float64\n",
      "dtypes: float64(1), string(7)\n",
      "memory usage: 13.0 MB\n"
     ]
    }
   ],
   "source": [
    "# Tratando os dados\n",
    "\n",
    "database['title'] = database['title'].astype(\"string\")\n",
    "database['description'] = database['description'].astype(\"string\")\n",
    "database['authors'] = database['authors'].astype(\"string\")\n",
    "database['publisher'] = database['publisher'].astype(\"string\")\n",
    "database['publishe_date'] = database['publisheddate']\n",
    "database['info_link'] = database['infolink']\n",
    "database['ratings_count'] = database['ratingscount']\n",
    "database.drop(columns = [\n",
    "    \"previewlink\", \n",
    "    \"image\", \n",
    "    \"publisheddate\", \n",
    "    \"infolink\", \n",
    "    \"ratingscount\"], inplace = True)\n",
    "database['publishe_date'] = database['publishe_date'].astype(\"string\")\n",
    "database['info_link'] = database['info_link'].astype(\"string\")\n",
    "database['categories'] = database['categories'].astype(\"string\")\n",
    "database['ratings_count'] = pd.to_numeric(database['ratings_count'])\n",
    "database.info()"
   ]
  },
  {
   "cell_type": "markdown",
   "metadata": {},
   "source": [
    "Não consegui converter a coluna \"publishe_date\" para datetime, pois as entradas variam entre YYYY-MM-DD e YYYY"
   ]
  },
  {
   "cell_type": "code",
   "execution_count": 5,
   "metadata": {},
   "outputs": [
    {
     "data": {
      "text/html": [
       "<div>\n",
       "<style scoped>\n",
       "    .dataframe tbody tr th:only-of-type {\n",
       "        vertical-align: middle;\n",
       "    }\n",
       "\n",
       "    .dataframe tbody tr th {\n",
       "        vertical-align: top;\n",
       "    }\n",
       "\n",
       "    .dataframe thead th {\n",
       "        text-align: right;\n",
       "    }\n",
       "</style>\n",
       "<table border=\"1\" class=\"dataframe\">\n",
       "  <thead>\n",
       "    <tr style=\"text-align: right;\">\n",
       "      <th></th>\n",
       "      <th>title</th>\n",
       "      <th>description</th>\n",
       "      <th>authors</th>\n",
       "      <th>publisher</th>\n",
       "      <th>categories</th>\n",
       "      <th>publishe_date</th>\n",
       "      <th>info_link</th>\n",
       "      <th>ratings_count</th>\n",
       "    </tr>\n",
       "  </thead>\n",
       "  <tbody>\n",
       "    <tr>\n",
       "      <th>196522</th>\n",
       "      <td>The Americanization of Edward Bok: The autobio...</td>\n",
       "      <td>&lt;NA&gt;</td>\n",
       "      <td>&lt;NA&gt;</td>\n",
       "      <td>&lt;NA&gt;</td>\n",
       "      <td>&lt;NA&gt;</td>\n",
       "      <td>&lt;NA&gt;</td>\n",
       "      <td>&lt;NA&gt;</td>\n",
       "      <td>NaN</td>\n",
       "    </tr>\n",
       "    <tr>\n",
       "      <th>204976</th>\n",
       "      <td>Deadly Waters (Rick Cunningham)</td>\n",
       "      <td>&lt;NA&gt;</td>\n",
       "      <td>&lt;NA&gt;</td>\n",
       "      <td>&lt;NA&gt;</td>\n",
       "      <td>&lt;NA&gt;</td>\n",
       "      <td>&lt;NA&gt;</td>\n",
       "      <td>&lt;NA&gt;</td>\n",
       "      <td>NaN</td>\n",
       "    </tr>\n",
       "    <tr>\n",
       "      <th>185972</th>\n",
       "      <td>IT People: Doing More With Less</td>\n",
       "      <td>https://www.DoingMoreWithLessBook.com/ Doing M...</td>\n",
       "      <td>['Bruce Piasecki']</td>\n",
       "      <td>Square One Publishers, Inc.</td>\n",
       "      <td>['Business &amp; Economics']</td>\n",
       "      <td>2016-05-23</td>\n",
       "      <td>https://play.google.com/store/books/details?id...</td>\n",
       "      <td>NaN</td>\n",
       "    </tr>\n",
       "  </tbody>\n",
       "</table>\n",
       "</div>"
      ],
      "text/plain": [
       "                                                    title  \\\n",
       "196522  The Americanization of Edward Bok: The autobio...   \n",
       "204976                    Deadly Waters (Rick Cunningham)   \n",
       "185972                    IT People: Doing More With Less   \n",
       "\n",
       "                                              description             authors  \\\n",
       "196522                                               <NA>                <NA>   \n",
       "204976                                               <NA>                <NA>   \n",
       "185972  https://www.DoingMoreWithLessBook.com/ Doing M...  ['Bruce Piasecki']   \n",
       "\n",
       "                          publisher                categories publishe_date  \\\n",
       "196522                         <NA>                      <NA>          <NA>   \n",
       "204976                         <NA>                      <NA>          <NA>   \n",
       "185972  Square One Publishers, Inc.  ['Business & Economics']    2016-05-23   \n",
       "\n",
       "                                                info_link  ratings_count  \n",
       "196522                                               <NA>            NaN  \n",
       "204976                                               <NA>            NaN  \n",
       "185972  https://play.google.com/store/books/details?id...            NaN  "
      ]
     },
     "execution_count": 5,
     "metadata": {},
     "output_type": "execute_result"
    }
   ],
   "source": [
    "database.sample(3)"
   ]
  },
  {
   "cell_type": "code",
   "execution_count": 6,
   "metadata": {},
   "outputs": [],
   "source": [
    "# Salva o arquivo modificado em processed\n",
    "\n",
    "database.to_pickle('processed/books_data.plk')\n",
    "del database"
   ]
  }
 ],
 "metadata": {
  "kernelspec": {
   "display_name": "Python 3.10.7 64-bit",
   "language": "python",
   "name": "python3"
  },
  "language_info": {
   "codemirror_mode": {
    "name": "ipython",
    "version": 3
   },
   "file_extension": ".py",
   "mimetype": "text/x-python",
   "name": "python",
   "nbconvert_exporter": "python",
   "pygments_lexer": "ipython3",
   "version": "3.10.7"
  },
  "orig_nbformat": 4,
  "vscode": {
   "interpreter": {
    "hash": "d7c77fd3856ea734c77f6e8de04e185634097421c9f124b9df813cb6fb949972"
   }
  }
 },
 "nbformat": 4,
 "nbformat_minor": 2
}
