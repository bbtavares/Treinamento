{
 "cells": [
  {
   "cell_type": "code",
   "execution_count": 1,
   "metadata": {},
   "outputs": [],
   "source": [
    "import pandas as pd\n",
    "import numpy as np\n",
    "import csv\n",
    "import datetime as dt"
   ]
  },
  {
   "cell_type": "code",
   "execution_count": 2,
   "metadata": {},
   "outputs": [
    {
     "name": "stdout",
     "output_type": "stream",
     "text": [
      "<class 'pandas.core.frame.DataFrame'>\n",
      "RangeIndex: 126 entries, 0 to 125\n",
      "Data columns (total 7 columns):\n",
      " #   Column         Non-Null Count  Dtype  \n",
      "---  ------         --------------  -----  \n",
      " 0   country        126 non-null    object \n",
      " 1   male_height    126 non-null    int64  \n",
      " 2   female_height  126 non-null    int64  \n",
      " 3   male_weight    126 non-null    float64\n",
      " 4   female_weight  126 non-null    float64\n",
      " 5   male_bmi       126 non-null    float64\n",
      " 6   female_bmi     126 non-null    float64\n",
      "dtypes: float64(4), int64(2), object(1)\n",
      "memory usage: 7.0+ KB\n"
     ]
    }
   ],
   "source": [
    "# Lendo arquivo csv\n",
    "\n",
    "database = pd.read_csv(r'C:\\Users\\Beatriz Brito\\Desktop\\CEPEDI\\ex.1\\datasets\\height_weight_data.csv', \n",
    "    low_memory=False)\n",
    "database.info()"
   ]
  },
  {
   "cell_type": "code",
   "execution_count": 4,
   "metadata": {},
   "outputs": [
    {
     "name": "stdout",
     "output_type": "stream",
     "text": [
      "<class 'pandas.core.frame.DataFrame'>\n",
      "RangeIndex: 126 entries, 0 to 125\n",
      "Data columns (total 7 columns):\n",
      " #   Column         Non-Null Count  Dtype  \n",
      "---  ------         --------------  -----  \n",
      " 0   country        126 non-null    string \n",
      " 1   male_height    126 non-null    int64  \n",
      " 2   female_height  126 non-null    int64  \n",
      " 3   male_weight    126 non-null    float64\n",
      " 4   female_weight  126 non-null    float64\n",
      " 5   male_bmi       126 non-null    float64\n",
      " 6   female_bmi     126 non-null    float64\n",
      "dtypes: float64(4), int64(2), string(1)\n",
      "memory usage: 7.0 KB\n"
     ]
    }
   ],
   "source": [
    "# Tratando os dados\n",
    "\n",
    "database['country'] = database['country'].astype(\"string\")\n",
    "database['male_height'] = pd.to_numeric(database['male_height'])\n",
    "database['female_height'] = pd.to_numeric(database['female_height'])\n",
    "database['male_weight'] = pd.to_numeric(database['male_weight'])\n",
    "database['female_weight'] = pd.to_numeric(database['female_weight'])\n",
    "database['male_bmi'] = pd.to_numeric(database['male_bmi'])\n",
    "database['female_bmi'] = pd.to_numeric(database['female_bmi'])\n",
    "database.info()\n"
   ]
  },
  {
   "cell_type": "code",
   "execution_count": 5,
   "metadata": {},
   "outputs": [],
   "source": [
    "# Salva o arquivo modificado em processed\n",
    "\n",
    "database.to_pickle('processed/height_weight_data.plk')\n",
    "del database"
   ]
  }
 ],
 "metadata": {
  "kernelspec": {
   "display_name": "Python 3.10.7 64-bit",
   "language": "python",
   "name": "python3"
  },
  "language_info": {
   "codemirror_mode": {
    "name": "ipython",
    "version": 3
   },
   "file_extension": ".py",
   "mimetype": "text/x-python",
   "name": "python",
   "nbconvert_exporter": "python",
   "pygments_lexer": "ipython3",
   "version": "3.10.7"
  },
  "orig_nbformat": 4,
  "vscode": {
   "interpreter": {
    "hash": "d7c77fd3856ea734c77f6e8de04e185634097421c9f124b9df813cb6fb949972"
   }
  }
 },
 "nbformat": 4,
 "nbformat_minor": 2
}
